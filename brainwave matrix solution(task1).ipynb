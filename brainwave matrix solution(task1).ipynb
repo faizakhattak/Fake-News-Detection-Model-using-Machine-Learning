{
 "cells": [
  {
   "cell_type": "markdown",
   "id": "f84aa66a",
   "metadata": {},
   "source": [
    "## import datasets"
   ]
  },
  {
   "cell_type": "code",
   "execution_count": 3,
   "id": "c0d5959e",
   "metadata": {},
   "outputs": [],
   "source": [
    "import pandas as pd\n",
    "true=pd.read_csv(\"True.csv\")\n",
    "fake=pd.read_csv(\"Fake.csv\")"
   ]
  },
  {
   "cell_type": "markdown",
   "id": "254beba5",
   "metadata": {},
   "source": [
    "## Data Preview"
   ]
  },
  {
   "cell_type": "code",
   "execution_count": 4,
   "id": "e6321c97",
   "metadata": {},
   "outputs": [
    {
     "data": {
      "text/html": [
       "<div>\n",
       "<style scoped>\n",
       "    .dataframe tbody tr th:only-of-type {\n",
       "        vertical-align: middle;\n",
       "    }\n",
       "\n",
       "    .dataframe tbody tr th {\n",
       "        vertical-align: top;\n",
       "    }\n",
       "\n",
       "    .dataframe thead th {\n",
       "        text-align: right;\n",
       "    }\n",
       "</style>\n",
       "<table border=\"1\" class=\"dataframe\">\n",
       "  <thead>\n",
       "    <tr style=\"text-align: right;\">\n",
       "      <th></th>\n",
       "      <th>title</th>\n",
       "      <th>text</th>\n",
       "      <th>subject</th>\n",
       "      <th>date</th>\n",
       "    </tr>\n",
       "  </thead>\n",
       "  <tbody>\n",
       "    <tr>\n",
       "      <th>0</th>\n",
       "      <td>As U.S. budget fight looms, Republicans flip t...</td>\n",
       "      <td>WASHINGTON (Reuters) - The head of a conservat...</td>\n",
       "      <td>politicsNews</td>\n",
       "      <td>December 31, 2017</td>\n",
       "    </tr>\n",
       "    <tr>\n",
       "      <th>1</th>\n",
       "      <td>U.S. military to accept transgender recruits o...</td>\n",
       "      <td>WASHINGTON (Reuters) - Transgender people will...</td>\n",
       "      <td>politicsNews</td>\n",
       "      <td>December 29, 2017</td>\n",
       "    </tr>\n",
       "    <tr>\n",
       "      <th>2</th>\n",
       "      <td>Senior U.S. Republican senator: 'Let Mr. Muell...</td>\n",
       "      <td>WASHINGTON (Reuters) - The special counsel inv...</td>\n",
       "      <td>politicsNews</td>\n",
       "      <td>December 31, 2017</td>\n",
       "    </tr>\n",
       "    <tr>\n",
       "      <th>3</th>\n",
       "      <td>FBI Russia probe helped by Australian diplomat...</td>\n",
       "      <td>WASHINGTON (Reuters) - Trump campaign adviser ...</td>\n",
       "      <td>politicsNews</td>\n",
       "      <td>December 30, 2017</td>\n",
       "    </tr>\n",
       "    <tr>\n",
       "      <th>4</th>\n",
       "      <td>Trump wants Postal Service to charge 'much mor...</td>\n",
       "      <td>SEATTLE/WASHINGTON (Reuters) - President Donal...</td>\n",
       "      <td>politicsNews</td>\n",
       "      <td>December 29, 2017</td>\n",
       "    </tr>\n",
       "  </tbody>\n",
       "</table>\n",
       "</div>"
      ],
      "text/plain": [
       "                                               title  \\\n",
       "0  As U.S. budget fight looms, Republicans flip t...   \n",
       "1  U.S. military to accept transgender recruits o...   \n",
       "2  Senior U.S. Republican senator: 'Let Mr. Muell...   \n",
       "3  FBI Russia probe helped by Australian diplomat...   \n",
       "4  Trump wants Postal Service to charge 'much mor...   \n",
       "\n",
       "                                                text       subject  \\\n",
       "0  WASHINGTON (Reuters) - The head of a conservat...  politicsNews   \n",
       "1  WASHINGTON (Reuters) - Transgender people will...  politicsNews   \n",
       "2  WASHINGTON (Reuters) - The special counsel inv...  politicsNews   \n",
       "3  WASHINGTON (Reuters) - Trump campaign adviser ...  politicsNews   \n",
       "4  SEATTLE/WASHINGTON (Reuters) - President Donal...  politicsNews   \n",
       "\n",
       "                 date  \n",
       "0  December 31, 2017   \n",
       "1  December 29, 2017   \n",
       "2  December 31, 2017   \n",
       "3  December 30, 2017   \n",
       "4  December 29, 2017   "
      ]
     },
     "execution_count": 4,
     "metadata": {},
     "output_type": "execute_result"
    }
   ],
   "source": [
    "true.head()"
   ]
  },
  {
   "cell_type": "code",
   "execution_count": 5,
   "id": "1250ac93",
   "metadata": {},
   "outputs": [
    {
     "data": {
      "text/html": [
       "<div>\n",
       "<style scoped>\n",
       "    .dataframe tbody tr th:only-of-type {\n",
       "        vertical-align: middle;\n",
       "    }\n",
       "\n",
       "    .dataframe tbody tr th {\n",
       "        vertical-align: top;\n",
       "    }\n",
       "\n",
       "    .dataframe thead th {\n",
       "        text-align: right;\n",
       "    }\n",
       "</style>\n",
       "<table border=\"1\" class=\"dataframe\">\n",
       "  <thead>\n",
       "    <tr style=\"text-align: right;\">\n",
       "      <th></th>\n",
       "      <th>title</th>\n",
       "      <th>text</th>\n",
       "      <th>subject</th>\n",
       "      <th>date</th>\n",
       "    </tr>\n",
       "  </thead>\n",
       "  <tbody>\n",
       "    <tr>\n",
       "      <th>0</th>\n",
       "      <td>Donald Trump Sends Out Embarrassing New Year’...</td>\n",
       "      <td>Donald Trump just couldn t wish all Americans ...</td>\n",
       "      <td>News</td>\n",
       "      <td>December 31, 2017</td>\n",
       "    </tr>\n",
       "    <tr>\n",
       "      <th>1</th>\n",
       "      <td>Drunk Bragging Trump Staffer Started Russian ...</td>\n",
       "      <td>House Intelligence Committee Chairman Devin Nu...</td>\n",
       "      <td>News</td>\n",
       "      <td>December 31, 2017</td>\n",
       "    </tr>\n",
       "    <tr>\n",
       "      <th>2</th>\n",
       "      <td>Sheriff David Clarke Becomes An Internet Joke...</td>\n",
       "      <td>On Friday, it was revealed that former Milwauk...</td>\n",
       "      <td>News</td>\n",
       "      <td>December 30, 2017</td>\n",
       "    </tr>\n",
       "    <tr>\n",
       "      <th>3</th>\n",
       "      <td>Trump Is So Obsessed He Even Has Obama’s Name...</td>\n",
       "      <td>On Christmas day, Donald Trump announced that ...</td>\n",
       "      <td>News</td>\n",
       "      <td>December 29, 2017</td>\n",
       "    </tr>\n",
       "    <tr>\n",
       "      <th>4</th>\n",
       "      <td>Pope Francis Just Called Out Donald Trump Dur...</td>\n",
       "      <td>Pope Francis used his annual Christmas Day mes...</td>\n",
       "      <td>News</td>\n",
       "      <td>December 25, 2017</td>\n",
       "    </tr>\n",
       "  </tbody>\n",
       "</table>\n",
       "</div>"
      ],
      "text/plain": [
       "                                               title  \\\n",
       "0   Donald Trump Sends Out Embarrassing New Year’...   \n",
       "1   Drunk Bragging Trump Staffer Started Russian ...   \n",
       "2   Sheriff David Clarke Becomes An Internet Joke...   \n",
       "3   Trump Is So Obsessed He Even Has Obama’s Name...   \n",
       "4   Pope Francis Just Called Out Donald Trump Dur...   \n",
       "\n",
       "                                                text subject  \\\n",
       "0  Donald Trump just couldn t wish all Americans ...    News   \n",
       "1  House Intelligence Committee Chairman Devin Nu...    News   \n",
       "2  On Friday, it was revealed that former Milwauk...    News   \n",
       "3  On Christmas day, Donald Trump announced that ...    News   \n",
       "4  Pope Francis used his annual Christmas Day mes...    News   \n",
       "\n",
       "                date  \n",
       "0  December 31, 2017  \n",
       "1  December 31, 2017  \n",
       "2  December 30, 2017  \n",
       "3  December 29, 2017  \n",
       "4  December 25, 2017  "
      ]
     },
     "execution_count": 5,
     "metadata": {},
     "output_type": "execute_result"
    }
   ],
   "source": [
    "fake.head()"
   ]
  },
  {
   "cell_type": "code",
   "execution_count": 6,
   "id": "c95d7e59",
   "metadata": {},
   "outputs": [
    {
     "name": "stdout",
     "output_type": "stream",
     "text": [
      "<class 'pandas.core.frame.DataFrame'>\n",
      "RangeIndex: 21417 entries, 0 to 21416\n",
      "Data columns (total 4 columns):\n",
      " #   Column   Non-Null Count  Dtype \n",
      "---  ------   --------------  ----- \n",
      " 0   title    21417 non-null  object\n",
      " 1   text     21417 non-null  object\n",
      " 2   subject  21417 non-null  object\n",
      " 3   date     21417 non-null  object\n",
      "dtypes: object(4)\n",
      "memory usage: 669.4+ KB\n"
     ]
    }
   ],
   "source": [
    "#collect summary about the dataset\n",
    "true.info()"
   ]
  },
  {
   "cell_type": "code",
   "execution_count": 7,
   "id": "cae668ba",
   "metadata": {},
   "outputs": [
    {
     "name": "stdout",
     "output_type": "stream",
     "text": [
      "<class 'pandas.core.frame.DataFrame'>\n",
      "RangeIndex: 23481 entries, 0 to 23480\n",
      "Data columns (total 4 columns):\n",
      " #   Column   Non-Null Count  Dtype \n",
      "---  ------   --------------  ----- \n",
      " 0   title    23481 non-null  object\n",
      " 1   text     23481 non-null  object\n",
      " 2   subject  23481 non-null  object\n",
      " 3   date     23481 non-null  object\n",
      "dtypes: object(4)\n",
      "memory usage: 733.9+ KB\n"
     ]
    }
   ],
   "source": [
    "fake.info()"
   ]
  },
  {
   "cell_type": "markdown",
   "id": "1f54de1f",
   "metadata": {},
   "source": [
    "## cleaning data"
   ]
  },
  {
   "cell_type": "code",
   "execution_count": 8,
   "id": "f57bde10",
   "metadata": {},
   "outputs": [
    {
     "data": {
      "text/plain": [
       "title      0\n",
       "text       0\n",
       "subject    0\n",
       "date       0\n",
       "dtype: int64"
      ]
     },
     "execution_count": 8,
     "metadata": {},
     "output_type": "execute_result"
    }
   ],
   "source": [
    "#missing value\n",
    "true.isnull().sum()"
   ]
  },
  {
   "cell_type": "code",
   "execution_count": 9,
   "id": "a7f98520",
   "metadata": {},
   "outputs": [
    {
     "data": {
      "text/plain": [
       "title      0\n",
       "text       0\n",
       "subject    0\n",
       "date       0\n",
       "dtype: int64"
      ]
     },
     "execution_count": 9,
     "metadata": {},
     "output_type": "execute_result"
    }
   ],
   "source": [
    "fake.isnull().sum()"
   ]
  },
  {
   "cell_type": "markdown",
   "id": "7f719c72",
   "metadata": {},
   "source": [
    "#### the is no missing value"
   ]
  },
  {
   "cell_type": "code",
   "execution_count": 10,
   "id": "c5c63c84",
   "metadata": {},
   "outputs": [
    {
     "data": {
      "text/plain": [
       "206"
      ]
     },
     "execution_count": 10,
     "metadata": {},
     "output_type": "execute_result"
    }
   ],
   "source": [
    "#see the duplication\n",
    "true.duplicated().sum()"
   ]
  },
  {
   "cell_type": "code",
   "execution_count": 11,
   "id": "b4899340",
   "metadata": {},
   "outputs": [
    {
     "data": {
      "text/plain": [
       "3"
      ]
     },
     "execution_count": 11,
     "metadata": {},
     "output_type": "execute_result"
    }
   ],
   "source": [
    "fake.duplicated().sum()"
   ]
  },
  {
   "cell_type": "code",
   "execution_count": 12,
   "id": "109a2fe8",
   "metadata": {},
   "outputs": [],
   "source": [
    "# Remove duplicates\n",
    "true = true.drop_duplicates()\n",
    "fake = fake.drop_duplicates()"
   ]
  },
  {
   "cell_type": "code",
   "execution_count": 13,
   "id": "3caa32de",
   "metadata": {},
   "outputs": [
    {
     "data": {
      "text/plain": [
       "0"
      ]
     },
     "execution_count": 13,
     "metadata": {},
     "output_type": "execute_result"
    }
   ],
   "source": [
    "#again see the duplication\n",
    "true.duplicated().sum()\n",
    "fake.duplicated().sum()"
   ]
  },
  {
   "cell_type": "code",
   "execution_count": 14,
   "id": "500212d7",
   "metadata": {},
   "outputs": [],
   "source": [
    "# Add a 'label' column to distinguish between true and fake news\n",
    "true['label'] = 1  # True news\n",
    "fake['label'] = 0"
   ]
  },
  {
   "cell_type": "code",
   "execution_count": 15,
   "id": "fc335052",
   "metadata": {},
   "outputs": [
    {
     "data": {
      "text/html": [
       "<div>\n",
       "<style scoped>\n",
       "    .dataframe tbody tr th:only-of-type {\n",
       "        vertical-align: middle;\n",
       "    }\n",
       "\n",
       "    .dataframe tbody tr th {\n",
       "        vertical-align: top;\n",
       "    }\n",
       "\n",
       "    .dataframe thead th {\n",
       "        text-align: right;\n",
       "    }\n",
       "</style>\n",
       "<table border=\"1\" class=\"dataframe\">\n",
       "  <thead>\n",
       "    <tr style=\"text-align: right;\">\n",
       "      <th></th>\n",
       "      <th>title</th>\n",
       "      <th>text</th>\n",
       "      <th>subject</th>\n",
       "      <th>date</th>\n",
       "      <th>label</th>\n",
       "    </tr>\n",
       "  </thead>\n",
       "  <tbody>\n",
       "    <tr>\n",
       "      <th>0</th>\n",
       "      <td>As U.S. budget fight looms, Republicans flip t...</td>\n",
       "      <td>WASHINGTON (Reuters) - The head of a conservat...</td>\n",
       "      <td>politicsNews</td>\n",
       "      <td>December 31, 2017</td>\n",
       "      <td>1</td>\n",
       "    </tr>\n",
       "    <tr>\n",
       "      <th>1</th>\n",
       "      <td>U.S. military to accept transgender recruits o...</td>\n",
       "      <td>WASHINGTON (Reuters) - Transgender people will...</td>\n",
       "      <td>politicsNews</td>\n",
       "      <td>December 29, 2017</td>\n",
       "      <td>1</td>\n",
       "    </tr>\n",
       "    <tr>\n",
       "      <th>2</th>\n",
       "      <td>Senior U.S. Republican senator: 'Let Mr. Muell...</td>\n",
       "      <td>WASHINGTON (Reuters) - The special counsel inv...</td>\n",
       "      <td>politicsNews</td>\n",
       "      <td>December 31, 2017</td>\n",
       "      <td>1</td>\n",
       "    </tr>\n",
       "    <tr>\n",
       "      <th>3</th>\n",
       "      <td>FBI Russia probe helped by Australian diplomat...</td>\n",
       "      <td>WASHINGTON (Reuters) - Trump campaign adviser ...</td>\n",
       "      <td>politicsNews</td>\n",
       "      <td>December 30, 2017</td>\n",
       "      <td>1</td>\n",
       "    </tr>\n",
       "  </tbody>\n",
       "</table>\n",
       "</div>"
      ],
      "text/plain": [
       "                                               title  \\\n",
       "0  As U.S. budget fight looms, Republicans flip t...   \n",
       "1  U.S. military to accept transgender recruits o...   \n",
       "2  Senior U.S. Republican senator: 'Let Mr. Muell...   \n",
       "3  FBI Russia probe helped by Australian diplomat...   \n",
       "\n",
       "                                                text       subject  \\\n",
       "0  WASHINGTON (Reuters) - The head of a conservat...  politicsNews   \n",
       "1  WASHINGTON (Reuters) - Transgender people will...  politicsNews   \n",
       "2  WASHINGTON (Reuters) - The special counsel inv...  politicsNews   \n",
       "3  WASHINGTON (Reuters) - Trump campaign adviser ...  politicsNews   \n",
       "\n",
       "                 date  label  \n",
       "0  December 31, 2017       1  \n",
       "1  December 29, 2017       1  \n",
       "2  December 31, 2017       1  \n",
       "3  December 30, 2017       1  "
      ]
     },
     "execution_count": 15,
     "metadata": {},
     "output_type": "execute_result"
    }
   ],
   "source": [
    "true.head(4)"
   ]
  },
  {
   "cell_type": "code",
   "execution_count": 16,
   "id": "f7bb70a3",
   "metadata": {},
   "outputs": [
    {
     "data": {
      "text/html": [
       "<div>\n",
       "<style scoped>\n",
       "    .dataframe tbody tr th:only-of-type {\n",
       "        vertical-align: middle;\n",
       "    }\n",
       "\n",
       "    .dataframe tbody tr th {\n",
       "        vertical-align: top;\n",
       "    }\n",
       "\n",
       "    .dataframe thead th {\n",
       "        text-align: right;\n",
       "    }\n",
       "</style>\n",
       "<table border=\"1\" class=\"dataframe\">\n",
       "  <thead>\n",
       "    <tr style=\"text-align: right;\">\n",
       "      <th></th>\n",
       "      <th>title</th>\n",
       "      <th>text</th>\n",
       "      <th>subject</th>\n",
       "      <th>date</th>\n",
       "      <th>label</th>\n",
       "    </tr>\n",
       "  </thead>\n",
       "  <tbody>\n",
       "    <tr>\n",
       "      <th>0</th>\n",
       "      <td>Donald Trump Sends Out Embarrassing New Year’...</td>\n",
       "      <td>Donald Trump just couldn t wish all Americans ...</td>\n",
       "      <td>News</td>\n",
       "      <td>December 31, 2017</td>\n",
       "      <td>0</td>\n",
       "    </tr>\n",
       "    <tr>\n",
       "      <th>1</th>\n",
       "      <td>Drunk Bragging Trump Staffer Started Russian ...</td>\n",
       "      <td>House Intelligence Committee Chairman Devin Nu...</td>\n",
       "      <td>News</td>\n",
       "      <td>December 31, 2017</td>\n",
       "      <td>0</td>\n",
       "    </tr>\n",
       "    <tr>\n",
       "      <th>2</th>\n",
       "      <td>Sheriff David Clarke Becomes An Internet Joke...</td>\n",
       "      <td>On Friday, it was revealed that former Milwauk...</td>\n",
       "      <td>News</td>\n",
       "      <td>December 30, 2017</td>\n",
       "      <td>0</td>\n",
       "    </tr>\n",
       "    <tr>\n",
       "      <th>3</th>\n",
       "      <td>Trump Is So Obsessed He Even Has Obama’s Name...</td>\n",
       "      <td>On Christmas day, Donald Trump announced that ...</td>\n",
       "      <td>News</td>\n",
       "      <td>December 29, 2017</td>\n",
       "      <td>0</td>\n",
       "    </tr>\n",
       "  </tbody>\n",
       "</table>\n",
       "</div>"
      ],
      "text/plain": [
       "                                               title  \\\n",
       "0   Donald Trump Sends Out Embarrassing New Year’...   \n",
       "1   Drunk Bragging Trump Staffer Started Russian ...   \n",
       "2   Sheriff David Clarke Becomes An Internet Joke...   \n",
       "3   Trump Is So Obsessed He Even Has Obama’s Name...   \n",
       "\n",
       "                                                text subject  \\\n",
       "0  Donald Trump just couldn t wish all Americans ...    News   \n",
       "1  House Intelligence Committee Chairman Devin Nu...    News   \n",
       "2  On Friday, it was revealed that former Milwauk...    News   \n",
       "3  On Christmas day, Donald Trump announced that ...    News   \n",
       "\n",
       "                date  label  \n",
       "0  December 31, 2017      0  \n",
       "1  December 31, 2017      0  \n",
       "2  December 30, 2017      0  \n",
       "3  December 29, 2017      0  "
      ]
     },
     "execution_count": 16,
     "metadata": {},
     "output_type": "execute_result"
    }
   ],
   "source": [
    "fake.head(4)"
   ]
  },
  {
   "cell_type": "markdown",
   "id": "8af8d5f8",
   "metadata": {},
   "source": [
    "## Combine the datasets"
   ]
  },
  {
   "cell_type": "code",
   "execution_count": 17,
   "id": "cb9dada9",
   "metadata": {},
   "outputs": [],
   "source": [
    "# Combine the datasets\n",
    "data = pd.concat([true, fake], axis=0).reset_index(drop=True)"
   ]
  },
  {
   "cell_type": "code",
   "execution_count": 18,
   "id": "682f7231",
   "metadata": {},
   "outputs": [],
   "source": [
    "# Drop unnecessary columns\n",
    "data = data.drop(columns=['title', 'subject', 'date'])"
   ]
  },
  {
   "cell_type": "code",
   "execution_count": 19,
   "id": "b66b672e",
   "metadata": {},
   "outputs": [
    {
     "data": {
      "text/html": [
       "<div>\n",
       "<style scoped>\n",
       "    .dataframe tbody tr th:only-of-type {\n",
       "        vertical-align: middle;\n",
       "    }\n",
       "\n",
       "    .dataframe tbody tr th {\n",
       "        vertical-align: top;\n",
       "    }\n",
       "\n",
       "    .dataframe thead th {\n",
       "        text-align: right;\n",
       "    }\n",
       "</style>\n",
       "<table border=\"1\" class=\"dataframe\">\n",
       "  <thead>\n",
       "    <tr style=\"text-align: right;\">\n",
       "      <th></th>\n",
       "      <th>text</th>\n",
       "      <th>label</th>\n",
       "    </tr>\n",
       "  </thead>\n",
       "  <tbody>\n",
       "    <tr>\n",
       "      <th>0</th>\n",
       "      <td>WASHINGTON (Reuters) - The head of a conservat...</td>\n",
       "      <td>1</td>\n",
       "    </tr>\n",
       "    <tr>\n",
       "      <th>1</th>\n",
       "      <td>WASHINGTON (Reuters) - Transgender people will...</td>\n",
       "      <td>1</td>\n",
       "    </tr>\n",
       "    <tr>\n",
       "      <th>2</th>\n",
       "      <td>WASHINGTON (Reuters) - The special counsel inv...</td>\n",
       "      <td>1</td>\n",
       "    </tr>\n",
       "    <tr>\n",
       "      <th>3</th>\n",
       "      <td>WASHINGTON (Reuters) - Trump campaign adviser ...</td>\n",
       "      <td>1</td>\n",
       "    </tr>\n",
       "    <tr>\n",
       "      <th>4</th>\n",
       "      <td>SEATTLE/WASHINGTON (Reuters) - President Donal...</td>\n",
       "      <td>1</td>\n",
       "    </tr>\n",
       "    <tr>\n",
       "      <th>...</th>\n",
       "      <td>...</td>\n",
       "      <td>...</td>\n",
       "    </tr>\n",
       "    <tr>\n",
       "      <th>44684</th>\n",
       "      <td>21st Century Wire says As 21WIRE reported earl...</td>\n",
       "      <td>0</td>\n",
       "    </tr>\n",
       "    <tr>\n",
       "      <th>44685</th>\n",
       "      <td>21st Century Wire says It s a familiar theme. ...</td>\n",
       "      <td>0</td>\n",
       "    </tr>\n",
       "    <tr>\n",
       "      <th>44686</th>\n",
       "      <td>Patrick Henningsen  21st Century WireRemember ...</td>\n",
       "      <td>0</td>\n",
       "    </tr>\n",
       "    <tr>\n",
       "      <th>44687</th>\n",
       "      <td>21st Century Wire says Al Jazeera America will...</td>\n",
       "      <td>0</td>\n",
       "    </tr>\n",
       "    <tr>\n",
       "      <th>44688</th>\n",
       "      <td>21st Century Wire says As 21WIRE predicted in ...</td>\n",
       "      <td>0</td>\n",
       "    </tr>\n",
       "  </tbody>\n",
       "</table>\n",
       "<p>44689 rows × 2 columns</p>\n",
       "</div>"
      ],
      "text/plain": [
       "                                                    text  label\n",
       "0      WASHINGTON (Reuters) - The head of a conservat...      1\n",
       "1      WASHINGTON (Reuters) - Transgender people will...      1\n",
       "2      WASHINGTON (Reuters) - The special counsel inv...      1\n",
       "3      WASHINGTON (Reuters) - Trump campaign adviser ...      1\n",
       "4      SEATTLE/WASHINGTON (Reuters) - President Donal...      1\n",
       "...                                                  ...    ...\n",
       "44684  21st Century Wire says As 21WIRE reported earl...      0\n",
       "44685  21st Century Wire says It s a familiar theme. ...      0\n",
       "44686  Patrick Henningsen  21st Century WireRemember ...      0\n",
       "44687  21st Century Wire says Al Jazeera America will...      0\n",
       "44688  21st Century Wire says As 21WIRE predicted in ...      0\n",
       "\n",
       "[44689 rows x 2 columns]"
      ]
     },
     "execution_count": 19,
     "metadata": {},
     "output_type": "execute_result"
    }
   ],
   "source": [
    "data"
   ]
  },
  {
   "cell_type": "markdown",
   "id": "f96c651d",
   "metadata": {},
   "source": [
    "## training and testing model"
   ]
  },
  {
   "cell_type": "code",
   "execution_count": 20,
   "id": "9ebceeff",
   "metadata": {},
   "outputs": [],
   "source": [
    "# Define the independent (X) and dependent (y) variables\n",
    "X = data['text']  \n",
    "y = data['label'] "
   ]
  },
  {
   "cell_type": "code",
   "execution_count": 21,
   "id": "f268f010",
   "metadata": {},
   "outputs": [],
   "source": [
    "# Split the dataset into training and testing sets\n",
    "from sklearn.model_selection import train_test_split\n",
    "X_train, X_test, y_train, y_test = train_test_split(X, y, test_size=0.2, random_state=42)"
   ]
  },
  {
   "cell_type": "code",
   "execution_count": 22,
   "id": "5b0c1cbe",
   "metadata": {},
   "outputs": [],
   "source": [
    "# Preprocessing the text data using TF-IDF Vectorizer\n",
    "from sklearn.feature_extraction.text import TfidfVectorizer\n",
    "vectorizer = TfidfVectorizer(stop_words='english', max_df=0.7)\n",
    "X_train_tfidf = vectorizer.fit_transform(X_train)\n",
    "X_test_tfidf = vectorizer.transform(X_test)"
   ]
  },
  {
   "cell_type": "markdown",
   "id": "08ad8579",
   "metadata": {},
   "source": [
    "## Apply Machine Learning Algorithms ###"
   ]
  },
  {
   "cell_type": "code",
   "execution_count": 23,
   "id": "4ed702d8",
   "metadata": {},
   "outputs": [
    {
     "name": "stdout",
     "output_type": "stream",
     "text": [
      "Logistic Regression\n",
      "Accuracy: 98.43%\n",
      "              precision    recall  f1-score   support\n",
      "\n",
      "           0       0.99      0.98      0.98      4648\n",
      "           1       0.98      0.98      0.98      4290\n",
      "\n",
      "    accuracy                           0.98      8938\n",
      "   macro avg       0.98      0.98      0.98      8938\n",
      "weighted avg       0.98      0.98      0.98      8938\n",
      "\n"
     ]
    }
   ],
   "source": [
    "# Logistic Regression\n",
    "from sklearn.linear_model import LogisticRegression\n",
    "from sklearn.metrics import accuracy_score, classification_report\n",
    "lr_model = LogisticRegression()\n",
    "lr_model.fit(X_train_tfidf, y_train)\n",
    "y_pred_lr = lr_model.predict(X_test_tfidf)\n",
    "print(\"Logistic Regression\")\n",
    "print(f'Accuracy: {accuracy_score(y_test, y_pred_lr) * 100:.2f}%')\n",
    "print(classification_report(y_test, y_pred_lr))"
   ]
  },
  {
   "cell_type": "markdown",
   "id": "dac3232e",
   "metadata": {},
   "source": [
    "#### The Logistic Regression model is very accurate, correctly predicting whether news is fake or true 98.43% of the time. It does a great job at identifying both fake and true news, with very few mistakes. The results show the model is reliable and balanced in its predictions."
   ]
  },
  {
   "cell_type": "code",
   "execution_count": 24,
   "id": "524bc323",
   "metadata": {},
   "outputs": [
    {
     "name": "stdout",
     "output_type": "stream",
     "text": [
      "\n",
      "Decision Tree Classifier\n",
      "Accuracy: 99.44%\n",
      "              precision    recall  f1-score   support\n",
      "\n",
      "           0       0.99      1.00      0.99      4648\n",
      "           1       1.00      0.99      0.99      4290\n",
      "\n",
      "    accuracy                           0.99      8938\n",
      "   macro avg       0.99      0.99      0.99      8938\n",
      "weighted avg       0.99      0.99      0.99      8938\n",
      "\n"
     ]
    }
   ],
   "source": [
    "from sklearn.tree import DecisionTreeClassifier\n",
    "# Decision Tree Classifier\n",
    "dt_model = DecisionTreeClassifier()\n",
    "dt_model.fit(X_train_tfidf, y_train)\n",
    "y_pred_dt = dt_model.predict(X_test_tfidf)\n",
    "print(\"\\nDecision Tree Classifier\")\n",
    "print(f'Accuracy: {accuracy_score(y_test, y_pred_dt) * 100:.2f}%')\n",
    "print(classification_report(y_test, y_pred_dt))"
   ]
  },
  {
   "cell_type": "markdown",
   "id": "5009e158",
   "metadata": {},
   "source": [
    "#### The Decision Tree Classifier achieved an impressive accuracy of 99.54%, meaning it correctly classified nearly all news articles. The precision, recall, and F1-scores for both fake news (class 0) and true news (class 1) are extremely high, close to 1.00. This indicates that the model almost perfectly distinguishes between fake and true news, making very few errors overall."
   ]
  },
  {
   "cell_type": "code",
   "execution_count": 25,
   "id": "d1721c87",
   "metadata": {},
   "outputs": [
    {
     "name": "stdout",
     "output_type": "stream",
     "text": [
      "\n",
      "Gradient Boosting Classifier\n",
      "Accuracy: 99.49%\n",
      "              precision    recall  f1-score   support\n",
      "\n",
      "           0       1.00      0.99      1.00      4648\n",
      "           1       0.99      1.00      0.99      4290\n",
      "\n",
      "    accuracy                           0.99      8938\n",
      "   macro avg       0.99      0.99      0.99      8938\n",
      "weighted avg       0.99      0.99      0.99      8938\n",
      "\n"
     ]
    }
   ],
   "source": [
    "# Gradient Boosting Classifier\n",
    "from sklearn.ensemble import GradientBoostingClassifier, RandomForestClassifier\n",
    "gb_model = GradientBoostingClassifier()\n",
    "gb_model.fit(X_train_tfidf, y_train)\n",
    "y_pred_gb = gb_model.predict(X_test_tfidf)\n",
    "print(\"\\nGradient Boosting Classifier\")\n",
    "print(f'Accuracy: {accuracy_score(y_test, y_pred_gb) * 100:.2f}%')\n",
    "print(classification_report(y_test, y_pred_gb))"
   ]
  },
  {
   "cell_type": "code",
   "execution_count": 26,
   "id": "2c08eb9b",
   "metadata": {},
   "outputs": [
    {
     "name": "stdout",
     "output_type": "stream",
     "text": [
      "\n",
      "Random Forest Classifier\n",
      "Accuracy: 99.13%\n",
      "              precision    recall  f1-score   support\n",
      "\n",
      "           0       0.99      0.99      0.99      4648\n",
      "           1       0.99      0.99      0.99      4290\n",
      "\n",
      "    accuracy                           0.99      8938\n",
      "   macro avg       0.99      0.99      0.99      8938\n",
      "weighted avg       0.99      0.99      0.99      8938\n",
      "\n"
     ]
    }
   ],
   "source": [
    "# Random Forest Classifier\n",
    "from sklearn.ensemble import GradientBoostingClassifier, RandomForestClassifier\n",
    "rf_model = RandomForestClassifier()\n",
    "rf_model.fit(X_train_tfidf, y_train)\n",
    "y_pred_rf = rf_model.predict(X_test_tfidf)\n",
    "print(\"\\nRandom Forest Classifier\")\n",
    "print(f'Accuracy: {accuracy_score(y_test, y_pred_rf) * 100:.2f}%')\n",
    "print(classification_report(y_test, y_pred_rf))"
   ]
  },
  {
   "cell_type": "markdown",
   "id": "72f57f73",
   "metadata": {},
   "source": [
    "### Manual Testing with a Sample Entry ###\n",
    "\n"
   ]
  },
  {
   "cell_type": "code",
   "execution_count": 27,
   "id": "28fb4552",
   "metadata": {},
   "outputs": [],
   "source": [
    "# Example news text for manual testing\n",
    "manual_test_data = [\n",
    "    \"The government announced a new policy that will help reduce unemployment by 20% over the next five years.\"\n",
    "]\n",
    "\n"
   ]
  },
  {
   "cell_type": "code",
   "execution_count": 28,
   "id": "7310d8f1",
   "metadata": {},
   "outputs": [],
   "source": [
    "# Preprocess manual entry using the same TF-IDF vectorizer\n",
    "manual_test_tfidf = vectorizer.transform(manual_test_data)\n",
    "\n",
    "# Test using the Logistic Regression model (or any other model)\n",
    "manual_pred = lr_model.predict(manual_test_tfidf)\n",
    "\n"
   ]
  },
  {
   "cell_type": "code",
   "execution_count": 29,
   "id": "1d318844",
   "metadata": {},
   "outputs": [
    {
     "name": "stdout",
     "output_type": "stream",
     "text": [
      "\n",
      "Manual Test\n",
      "The news is predicted to be FAKE.\n"
     ]
    }
   ],
   "source": [
    "# Output the result\n",
    "print(\"\\nManual Test\")\n",
    "if manual_pred[0] == 1:\n",
    "    print(\"The news is predicted to be TRUE.\")\n",
    "else:\n",
    "    print(\"The news is predicted to be FAKE.\")"
   ]
  },
  {
   "cell_type": "code",
   "execution_count": 30,
   "id": "50330bb0",
   "metadata": {},
   "outputs": [
    {
     "name": "stdout",
     "output_type": "stream",
     "text": [
      "\n",
      "Manual Test for True News\n",
      "The news is predicted to be TRUE.\n"
     ]
    }
   ],
   "source": [
    "# Example of another manual test data\n",
    "manual_test_data = [\n",
    "    \"The president announced a new plan to boost healthcare funding by 20% in the next fiscal year, aiming to improve medical infrastructure and accessibility.\"\n",
    "]\n",
    "\n",
    "# Preprocess manual entry using the same TF-IDF vectorizer\n",
    "manual_test_tfidf = vectorizer.transform(manual_test_data)\n",
    "\n",
    "# Test using the Logistic Regression model (or any other model)\n",
    "manual_pred = lr_model.predict(manual_test_tfidf)\n",
    "\n",
    "# Output the result\n",
    "print(\"\\nManual Test for True News\")\n",
    "if manual_pred[0] == 1:\n",
    "    print(\"The news is predicted to be TRUE.\")\n",
    "else:\n",
    "    print(\"The news is predicted to be FAKE.\")"
   ]
  },
  {
   "cell_type": "code",
   "execution_count": 33,
   "id": "35579573",
   "metadata": {},
   "outputs": [
    {
     "name": "stdout",
     "output_type": "stream",
     "text": [
      "text data are for testing:  ['Vice President Kamala Harris went on the offensive against former President Donald Trump on immigration Friday during her visit to the southern border in Arizona as she tries to turn a political vulnerability on its head.Immigration has featured prominently in the 2024 presidential election, with polls showing voters placing more trust in Trump to handle the issue than Harris. Democrats, grappling with years of border crises, have tried to gain ground by pointing to the bipartisan border measure that congressional Republicans blocked earlier this year after Trump came out against it. Harris on Friday lambasted Trump for his role in stymying that bill. “It was the strongest border security bill we have seen in decades. It was endorsed by the Border Patrol union. And it should be in effect today, producing results in real time, right now, for our country,” she said at a rally in Douglas, a town on the US-Mexico border. “But Donald Trump tanked it. He picked up the phone and called some friends in Congress and said, ‘Stop the bill,’” she said. “He prefers to run on a problem instead of fixing a problem. And the American people deserve a president who cares more about border security than playing political games and their personal political future.” She said she would ask Congress to pass the measure if she is elected, and would sign it into law. She also laid out a series of proposals that she said were “not just about some rhetoric at a rally,” but would help stem the flow of migrants into the United States.']\n",
      "\n",
      "Manual Test for True News\n",
      "The news is predicted to be TRUE.\n"
     ]
    }
   ],
   "source": [
    "# this data i randomly pick in CNN news\n",
    "manual_test_data = [\n",
    "    \"Vice President Kamala Harris went on the offensive against former President Donald Trump on immigration Friday during her visit to the southern border in Arizona as she tries to turn a political vulnerability on its head.Immigration has featured prominently in the 2024 presidential election, with polls showing voters placing more trust in Trump to handle the issue than Harris. Democrats, grappling with years of border crises, have tried to gain ground by pointing to the bipartisan border measure that congressional Republicans blocked earlier this year after Trump came out against it. Harris on Friday lambasted Trump for his role in stymying that bill. “It was the strongest border security bill we have seen in decades. It was endorsed by the Border Patrol union. And it should be in effect today, producing results in real time, right now, for our country,” she said at a rally in Douglas, a town on the US-Mexico border. “But Donald Trump tanked it. He picked up the phone and called some friends in Congress and said, ‘Stop the bill,’” she said. “He prefers to run on a problem instead of fixing a problem. And the American people deserve a president who cares more about border security than playing political games and their personal political future.” She said she would ask Congress to pass the measure if she is elected, and would sign it into law. She also laid out a series of proposals that she said were “not just about some rhetoric at a rally,” but would help stem the flow of migrants into the United States.\"\n",
    "]\n",
    "print(\"text data are for testing: \", manual_test_data)\n",
    "\n",
    "# Preprocess manual entry using the same TF-IDF vectorizer\n",
    "manual_test_tfidf = vectorizer.transform(manual_test_data)\n",
    "\n",
    "# Test using the Logistic Regression model (or any other model)\n",
    "manual_pred = lr_model.predict(manual_test_tfidf)\n",
    "\n",
    "# Output the result\n",
    "print(\"\\nManual Test for True News\")\n",
    "if manual_pred[0] == 1:\n",
    "    print(\"The news is predicted to be TRUE.\")\n",
    "else:\n",
    "    print(\"The news is predicted to be FAKE.\")"
   ]
  },
  {
   "cell_type": "code",
   "execution_count": null,
   "id": "ad7440d3",
   "metadata": {},
   "outputs": [],
   "source": []
  }
 ],
 "metadata": {
  "kernelspec": {
   "display_name": "Python 3 (ipykernel)",
   "language": "python",
   "name": "python3"
  },
  "language_info": {
   "codemirror_mode": {
    "name": "ipython",
    "version": 3
   },
   "file_extension": ".py",
   "mimetype": "text/x-python",
   "name": "python",
   "nbconvert_exporter": "python",
   "pygments_lexer": "ipython3",
   "version": "3.10.9"
  }
 },
 "nbformat": 4,
 "nbformat_minor": 5
}
